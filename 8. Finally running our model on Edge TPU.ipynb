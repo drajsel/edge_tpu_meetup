{
 "cells": [
  {
   "cell_type": "markdown",
   "metadata": {},
   "source": [
    "# Finally running our model on Edge TPU\n",
    "\n",
    "So, we are finally ready to run our model on the Edge TPU:"
   ]
  },
  {
   "cell_type": "code",
   "execution_count": 1,
   "metadata": {},
   "outputs": [],
   "source": [
    "from edgetpu.classification.engine import ClassificationEngine\n",
    "from tensorflow.lite.python.interpreter import Interpreter\n",
    "from tensorflow.examples.tutorials.mnist import input_data\n",
    "import numpy as np"
   ]
  },
  {
   "cell_type": "markdown",
   "metadata": {},
   "source": [
    "First, let's recover the quantization scale information (you can just save this info beforehand):"
   ]
  },
  {
   "cell_type": "code",
   "execution_count": 2,
   "metadata": {},
   "outputs": [],
   "source": [
    "def get_quant_info(model_path='./data/mnist_cnn_quant.tflite'):\n",
    "    with open(model_path, 'rb') as f:\n",
    "        model_content = f.read()\n",
    "        \n",
    "    interpreter = Interpreter(model_content=bytes(model_content))\n",
    "\n",
    "    input_details = interpreter.get_input_details()\n",
    "    input_scale, input_zero_point = input_details[0]['quantization']\n",
    "    input_stats = (input_scale, input_zero_point)\n",
    "\n",
    "    return input_stats\n",
    "\n",
    "input_stats = get_quant_info('./data/mnist_cnn_quant.tflite')"
   ]
  },
  {
   "cell_type": "code",
   "execution_count": 3,
   "metadata": {},
   "outputs": [],
   "source": [
    "engine = ClassificationEngine('data/mnist_cnn_quant_edgetpu.tflite')"
   ]
  },
  {
   "cell_type": "markdown",
   "metadata": {},
   "source": [
    "Define the inference process:"
   ]
  },
  {
   "cell_type": "code",
   "execution_count": 4,
   "metadata": {},
   "outputs": [],
   "source": [
    "def run_inference(data, engine, input_stats):\n",
    "    input_scale, input_zero_point = input_stats    \n",
    "    \n",
    "    quantized_data = np.uint8(data/input_scale + input_zero_point)\n",
    "    \n",
    "    predicted_class = engine.ClassifyWithInputTensor(quantized_data, top_k=1)\n",
    "    \n",
    "    return predicted_class[0][0]"
   ]
  },
  {
   "cell_type": "markdown",
   "metadata": {},
   "source": [
    "Measure the performance of the deployed classifier:"
   ]
  },
  {
   "cell_type": "code",
   "execution_count": 6,
   "metadata": {},
   "outputs": [
    {
     "name": "stdout",
     "output_type": "stream",
     "text": [
      "Extracting MNIST-data/train-images-idx3-ubyte.gz\n",
      "Extracting MNIST-data/train-labels-idx1-ubyte.gz\n",
      "Extracting MNIST-data/t10k-images-idx3-ubyte.gz\n",
      "Extracting MNIST-data/t10k-labels-idx1-ubyte.gz\n"
     ]
    }
   ],
   "source": [
    "mnist = input_data.read_data_sets('MNIST-data', one_hot=True)"
   ]
  },
  {
   "cell_type": "markdown",
   "metadata": {},
   "source": [
    "Let's send an image to the Edge TPU:"
   ]
  },
  {
   "cell_type": "code",
   "execution_count": 7,
   "metadata": {},
   "outputs": [],
   "source": [
    "quantized_data = np.uint8(mnist.test.images[0]/input_stats[0] + input_stats[1])\n",
    "predicted_class = engine.ClassifyWithInputTensor(quantized_data, top_k=1)"
   ]
  },
  {
   "cell_type": "code",
   "execution_count": 8,
   "metadata": {},
   "outputs": [
    {
     "name": "stdout",
     "output_type": "stream",
     "text": [
      "[(7, 0.99609375)]\n"
     ]
    }
   ],
   "source": [
    "print(predicted_class)"
   ]
  },
  {
   "cell_type": "code",
   "execution_count": 9,
   "metadata": {},
   "outputs": [],
   "source": [
    "predictions = [run_inference(x, engine, input_stats) for x in mnist.test.images]"
   ]
  },
  {
   "cell_type": "code",
   "execution_count": 10,
   "metadata": {},
   "outputs": [
    {
     "name": "stdout",
     "output_type": "stream",
     "text": [
      "Accuracy : 99.3 %\n"
     ]
    }
   ],
   "source": [
    "predictions = np.asarray(predictions)\n",
    "true_labels = mnist.test.labels.argmax(1)\n",
    "accuracy = np.sum(predictions == true_labels)/len(true_labels)\n",
    "print(\"Accuracy :\", 100*accuracy, \"%\")\n"
   ]
  }
 ],
 "metadata": {
  "kernelspec": {
   "display_name": "Python 3",
   "language": "python",
   "name": "python3"
  },
  "language_info": {
   "codemirror_mode": {
    "name": "ipython",
    "version": 3
   },
   "file_extension": ".py",
   "mimetype": "text/x-python",
   "name": "python",
   "nbconvert_exporter": "python",
   "pygments_lexer": "ipython3",
   "version": "3.6.7"
  }
 },
 "nbformat": 4,
 "nbformat_minor": 2
}
