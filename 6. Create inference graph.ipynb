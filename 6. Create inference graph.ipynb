{
 "cells": [
  {
   "cell_type": "markdown",
   "metadata": {},
   "source": [
    "# Create inference graph\n",
    "\n",
    "So, we have trained our model, but we are not done yet... We have to create the inference graph, freeze the graph and convert our model into TFLite."
   ]
  },
  {
   "cell_type": "code",
   "execution_count": 1,
   "metadata": {},
   "outputs": [],
   "source": [
    "import tensorflow as tf\n",
    "from tensorflow.examples.tutorials.mnist import input_data\n",
    "from tensorflow import InteractiveSession, ConfigProto\n",
    "config = ConfigProto()\n",
    "config.gpu_options.allow_growth = True\n",
    "session = InteractiveSession(config=config)\n",
    "tf.logging.set_verbosity(tf.logging.ERROR)"
   ]
  },
  {
   "cell_type": "code",
   "execution_count": 2,
   "metadata": {},
   "outputs": [],
   "source": [
    "def cnn_model(x, training=False):\n",
    "    x = tf.reshape(x, shape=[-1, 28, 28, 1])\n",
    "    \n",
    "    x = tf.layers.conv2d(x, 32, 3, activation=tf.nn.relu)\n",
    "    x = tf.layers.max_pooling2d(x, 2, 2)\n",
    "\n",
    "    x = tf.layers.conv2d(x, 64, 3, activation=tf.nn.relu)\n",
    "    x = tf.layers.max_pooling2d(x, 2, 2)\n",
    "\n",
    "    x = tf.layers.dropout(x, rate=0.5, training=training)\n",
    "\n",
    "    x = tf.contrib.layers.flatten(x)\n",
    "    x = tf.layers.dense(x, 1024, activation=tf.nn.relu)\n",
    "    x = tf.layers.dropout(x, rate=0.5, training=training)\n",
    "    x = tf.layers.dense(x, 10)\n",
    "\n",
    "\n",
    "    return x"
   ]
  },
  {
   "cell_type": "markdown",
   "metadata": {},
   "source": [
    "Re-create the model's graph for inference:"
   ]
  },
  {
   "cell_type": "code",
   "execution_count": 3,
   "metadata": {},
   "outputs": [],
   "source": [
    "sess = tf.Session()\n",
    "\n",
    "x = tf.placeholder(tf.float32, shape=[None, 784], name='input')\n",
    "y = tf.placeholder(tf.float32, shape=[None, 10], name='label')\n",
    "\n",
    "logits = cnn_model(x, False)\n",
    "y_pred = tf.nn.softmax(logits, name='prob')\n",
    "\n",
    "tf.contrib.quantize.create_eval_graph()"
   ]
  },
  {
   "cell_type": "markdown",
   "metadata": {},
   "source": [
    "Load the previous model:"
   ]
  },
  {
   "cell_type": "code",
   "execution_count": 4,
   "metadata": {},
   "outputs": [],
   "source": [
    "saver = tf.train.Saver()\n",
    "saver.restore(sess, './data/trained_model.ckpt')"
   ]
  },
  {
   "cell_type": "markdown",
   "metadata": {},
   "source": [
    "Save the inference graph!"
   ]
  },
  {
   "cell_type": "code",
   "execution_count": 5,
   "metadata": {},
   "outputs": [],
   "source": [
    "with open('data/eval.pb', 'w') as f:\n",
    "    g = tf.get_default_graph()\n",
    "    f.write(str(g.as_graph_def()))"
   ]
  },
  {
   "cell_type": "markdown",
   "metadata": {},
   "source": [
    "Evaluate the model to ensure that it still works:"
   ]
  },
  {
   "cell_type": "code",
   "execution_count": 6,
   "metadata": {},
   "outputs": [
    {
     "name": "stdout",
     "output_type": "stream",
     "text": [
      "Extracting MNIST-data/train-images-idx3-ubyte.gz\n",
      "Extracting MNIST-data/train-labels-idx1-ubyte.gz\n",
      "Extracting MNIST-data/t10k-images-idx3-ubyte.gz\n",
      "Extracting MNIST-data/t10k-labels-idx1-ubyte.gz\n",
      "Test acc =  0.9928\n"
     ]
    }
   ],
   "source": [
    "correct_prediction = tf.equal(tf.argmax(y,1), tf.argmax(y_pred,1))\n",
    "accuracy = tf.reduce_mean(tf.cast(correct_prediction, \"float\"))\n",
    "\n",
    "mnist = input_data.read_data_sets('MNIST-data', one_hot=True)\n",
    "acc = sess.run(accuracy, feed_dict={x: mnist.test.images, y: mnist.test.labels})\n",
    "print(\"Test acc = \", acc)"
   ]
  },
  {
   "cell_type": "markdown",
   "metadata": {},
   "source": [
    "Freeze the inference graph:"
   ]
  },
  {
   "cell_type": "code",
   "execution_count": 7,
   "metadata": {},
   "outputs": [
    {
     "name": "stdout",
     "output_type": "stream",
     "text": [
      "WARNING:tensorflow:From /home/nick/.local/lib/python3.6/site-packages/tensorflow/python/tools/freeze_graph.py:249: FastGFile.__init__ (from tensorflow.python.platform.gfile) is deprecated and will be removed in a future version.\n",
      "Instructions for updating:\n",
      "Use tf.gfile.GFile.\n",
      "WARNING:tensorflow:From /home/nick/.local/lib/python3.6/site-packages/tensorflow/python/tools/freeze_graph.py:127: checkpoint_exists (from tensorflow.python.training.checkpoint_management) is deprecated and will be removed in a future version.\n",
      "Instructions for updating:\n",
      "Use standard file APIs to check for files with this prefix.\n",
      "2019-05-07 08:38:36.174683: I tensorflow/core/platform/cpu_feature_guard.cc:141] Your CPU supports instructions that this TensorFlow binary was not compiled to use: AVX2 FMA\n",
      "2019-05-07 08:38:36.257304: I tensorflow/stream_executor/cuda/cuda_gpu_executor.cc:998] successful NUMA node read from SysFS had negative value (-1), but there must be at least one NUMA node, so returning NUMA node zero\n",
      "2019-05-07 08:38:36.260916: I tensorflow/stream_executor/cuda/cuda_gpu_executor.cc:998] successful NUMA node read from SysFS had negative value (-1), but there must be at least one NUMA node, so returning NUMA node zero\n",
      "2019-05-07 08:38:36.261717: I tensorflow/compiler/xla/service/service.cc:150] XLA service 0x3d7b890 executing computations on platform CUDA. Devices:\n",
      "2019-05-07 08:38:36.261731: I tensorflow/compiler/xla/service/service.cc:158]   StreamExecutor device (0): GeForce RTX 2060, Compute Capability 7.5\n",
      "2019-05-07 08:38:36.261734: I tensorflow/compiler/xla/service/service.cc:158]   StreamExecutor device (1): GeForce GTX 1060 6GB, Compute Capability 6.1\n",
      "2019-05-07 08:38:36.281500: I tensorflow/core/platform/profile_utils/cpu_utils.cc:94] CPU Frequency: 3696000000 Hz\n",
      "2019-05-07 08:38:36.281706: I tensorflow/compiler/xla/service/service.cc:150] XLA service 0x3f6b620 executing computations on platform Host. Devices:\n",
      "2019-05-07 08:38:36.281719: I tensorflow/compiler/xla/service/service.cc:158]   StreamExecutor device (0): <undefined>, <undefined>\n",
      "2019-05-07 08:38:36.281853: I tensorflow/core/common_runtime/gpu/gpu_device.cc:1433] Found device 0 with properties: \n",
      "name: GeForce RTX 2060 major: 7 minor: 5 memoryClockRate(GHz): 1.68\n",
      "pciBusID: 0000:01:00.0\n",
      "totalMemory: 5.77GiB freeMemory: 120.69MiB\n",
      "2019-05-07 08:38:36.281996: I tensorflow/core/common_runtime/gpu/gpu_device.cc:1433] Found device 1 with properties: \n",
      "name: GeForce GTX 1060 6GB major: 6 minor: 1 memoryClockRate(GHz): 1.7085\n",
      "pciBusID: 0000:09:00.0\n",
      "totalMemory: 5.93GiB freeMemory: 4.94GiB\n",
      "2019-05-07 08:38:36.282012: I tensorflow/core/common_runtime/gpu/gpu_device.cc:1512] Adding visible gpu devices: 0, 1\n",
      "2019-05-07 08:38:36.283024: I tensorflow/core/common_runtime/gpu/gpu_device.cc:984] Device interconnect StreamExecutor with strength 1 edge matrix:\n",
      "2019-05-07 08:38:36.283032: I tensorflow/core/common_runtime/gpu/gpu_device.cc:990]      0 1 \n",
      "2019-05-07 08:38:36.283035: I tensorflow/core/common_runtime/gpu/gpu_device.cc:1003] 0:   N N \n",
      "2019-05-07 08:38:36.283038: I tensorflow/core/common_runtime/gpu/gpu_device.cc:1003] 1:   N N \n",
      "2019-05-07 08:38:36.283257: I tensorflow/core/common_runtime/gpu/gpu_device.cc:1115] Created TensorFlow device (/job:localhost/replica:0/task:0/device:GPU:0 with 120 MB memory) -> physical GPU (device: 0, name: GeForce RTX 2060, pci bus id: 0000:01:00.0, compute capability: 7.5)\n",
      "2019-05-07 08:38:36.283653: I tensorflow/core/common_runtime/gpu/gpu_device.cc:1115] Created TensorFlow device (/job:localhost/replica:0/task:0/device:GPU:1 with 4763 MB memory) -> physical GPU (device: 1, name: GeForce GTX 1060 6GB, pci bus id: 0000:09:00.0, compute capability: 6.1)\n",
      "WARNING:tensorflow:From /home/nick/.local/lib/python3.6/site-packages/tensorflow/python/ops/control_flow_ops.py:3632: colocate_with (from tensorflow.python.framework.ops) is deprecated and will be removed in a future version.\n",
      "Instructions for updating:\n",
      "Colocations handled automatically by placer.\n",
      "2019-05-07 08:38:36.321831: E tensorflow/stream_executor/cuda/cuda_driver.cc:806] failed to allocate 120.69M (126550016 bytes) from device: CUDA_ERROR_OUT_OF_MEMORY: out of memory\n",
      "WARNING:tensorflow:From /home/nick/.local/lib/python3.6/site-packages/tensorflow/python/tools/freeze_graph.py:232: convert_variables_to_constants (from tensorflow.python.framework.graph_util_impl) is deprecated and will be removed in a future version.\n",
      "Instructions for updating:\n",
      "Use tf.compat.v1.graph_util.convert_variables_to_constants\n",
      "WARNING:tensorflow:From /home/nick/.local/lib/python3.6/site-packages/tensorflow/python/framework/graph_util_impl.py:245: extract_sub_graph (from tensorflow.python.framework.graph_util_impl) is deprecated and will be removed in a future version.\n",
      "Instructions for updating:\n",
      "Use tf.compat.v1.graph_util.extract_sub_graph\n"
     ]
    }
   ],
   "source": [
    "!freeze_graph --input_graph=./data/eval.pb --input_checkpoint=./data/trained_model.ckpt --output_graph=./data/frozen_graph.pb  --output_node_names=prob"
   ]
  },
  {
   "cell_type": "markdown",
   "metadata": {},
   "source": [
    "Convert frozen graph to TFLite:"
   ]
  },
  {
   "cell_type": "code",
   "execution_count": 8,
   "metadata": {},
   "outputs": [
    {
     "name": "stdout",
     "output_type": "stream",
     "text": [
      "2019-05-07 08:38:39.734319: I tensorflow/core/platform/cpu_feature_guard.cc:141] Your CPU supports instructions that this TensorFlow binary was not compiled to use: AVX2 FMA\n",
      "2019-05-07 08:38:39.814759: I tensorflow/stream_executor/cuda/cuda_gpu_executor.cc:998] successful NUMA node read from SysFS had negative value (-1), but there must be at least one NUMA node, so returning NUMA node zero\n",
      "2019-05-07 08:38:39.817607: I tensorflow/stream_executor/cuda/cuda_gpu_executor.cc:998] successful NUMA node read from SysFS had negative value (-1), but there must be at least one NUMA node, so returning NUMA node zero\n",
      "2019-05-07 08:38:39.818319: I tensorflow/compiler/xla/service/service.cc:150] XLA service 0x132d930 executing computations on platform CUDA. Devices:\n",
      "2019-05-07 08:38:39.818332: I tensorflow/compiler/xla/service/service.cc:158]   StreamExecutor device (0): GeForce RTX 2060, Compute Capability 7.5\n",
      "2019-05-07 08:38:39.818336: I tensorflow/compiler/xla/service/service.cc:158]   StreamExecutor device (1): GeForce GTX 1060 6GB, Compute Capability 6.1\n",
      "2019-05-07 08:38:39.837482: I tensorflow/core/platform/profile_utils/cpu_utils.cc:94] CPU Frequency: 3696000000 Hz\n",
      "2019-05-07 08:38:39.837802: I tensorflow/compiler/xla/service/service.cc:150] XLA service 0x19f1900 executing computations on platform Host. Devices:\n",
      "2019-05-07 08:38:39.837814: I tensorflow/compiler/xla/service/service.cc:158]   StreamExecutor device (0): <undefined>, <undefined>\n",
      "2019-05-07 08:38:39.837955: I tensorflow/core/common_runtime/gpu/gpu_device.cc:1433] Found device 0 with properties: \n",
      "name: GeForce RTX 2060 major: 7 minor: 5 memoryClockRate(GHz): 1.68\n",
      "pciBusID: 0000:01:00.0\n",
      "totalMemory: 5.77GiB freeMemory: 120.69MiB\n",
      "2019-05-07 08:38:39.838105: I tensorflow/core/common_runtime/gpu/gpu_device.cc:1433] Found device 1 with properties: \n",
      "name: GeForce GTX 1060 6GB major: 6 minor: 1 memoryClockRate(GHz): 1.7085\n",
      "pciBusID: 0000:09:00.0\n",
      "totalMemory: 5.93GiB freeMemory: 4.94GiB\n",
      "2019-05-07 08:38:39.838121: I tensorflow/core/common_runtime/gpu/gpu_device.cc:1512] Adding visible gpu devices: 0, 1\n",
      "2019-05-07 08:38:39.839233: I tensorflow/core/common_runtime/gpu/gpu_device.cc:984] Device interconnect StreamExecutor with strength 1 edge matrix:\n",
      "2019-05-07 08:38:39.839242: I tensorflow/core/common_runtime/gpu/gpu_device.cc:990]      0 1 \n",
      "2019-05-07 08:38:39.839246: I tensorflow/core/common_runtime/gpu/gpu_device.cc:1003] 0:   N N \n",
      "2019-05-07 08:38:39.839250: I tensorflow/core/common_runtime/gpu/gpu_device.cc:1003] 1:   N N \n",
      "2019-05-07 08:38:39.839488: I tensorflow/core/common_runtime/gpu/gpu_device.cc:1115] Created TensorFlow device (/job:localhost/replica:0/task:0/device:GPU:0 with 120 MB memory) -> physical GPU (device: 0, name: GeForce RTX 2060, pci bus id: 0000:01:00.0, compute capability: 7.5)\n",
      "2019-05-07 08:38:39.839889: I tensorflow/core/common_runtime/gpu/gpu_device.cc:1115] Created TensorFlow device (/job:localhost/replica:0/task:0/device:GPU:1 with 4763 MB memory) -> physical GPU (device: 1, name: GeForce GTX 1060 6GB, pci bus id: 0000:09:00.0, compute capability: 6.1)\n"
     ]
    }
   ],
   "source": [
    "!tflite_convert --output_file=./data/mnist_cnn_quant.tflite  --graph_def_file=./data/frozen_graph.pb --inference_type=QUANTIZED_UINT8 --input_type=QUANTIZED_UINT8 --input_arrays=input --output_arrays=prob --mean_values=128  --std_dev_values=127"
   ]
  },
  {
   "cell_type": "code",
   "execution_count": 9,
   "metadata": {},
   "outputs": [
    {
     "name": "stdout",
     "output_type": "stream",
     "text": [
      "data/mnist_cnn_quant_edgetpu.tflite  data/mnist_cnn_quant.tflite\r\n"
     ]
    }
   ],
   "source": [
    "!ls data/mnist_cnn*"
   ]
  },
  {
   "cell_type": "markdown",
   "metadata": {},
   "source": [
    "Upload the TFLite model to [online Edge TPU compiler](https://coral.withgoogle.com/web-compiler/) to get you final model:"
   ]
  },
  {
   "cell_type": "markdown",
   "metadata": {},
   "source": [
    "![](edge_compiler.png)"
   ]
  }
 ],
 "metadata": {
  "kernelspec": {
   "display_name": "Python 3",
   "language": "python",
   "name": "python3"
  },
  "language_info": {
   "codemirror_mode": {
    "name": "ipython",
    "version": 3
   },
   "file_extension": ".py",
   "mimetype": "text/x-python",
   "name": "python",
   "nbconvert_exporter": "python",
   "pygments_lexer": "ipython3",
   "version": "3.6.7"
  }
 },
 "nbformat": 4,
 "nbformat_minor": 2
}
