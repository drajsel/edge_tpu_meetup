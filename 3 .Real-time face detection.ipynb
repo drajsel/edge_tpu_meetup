{
 "cells": [
  {
   "cell_type": "markdown",
   "metadata": {},
   "source": [
    "# Real-time face detection with Edge TPU\n",
    "\n",
    "Let's build a real-time face detection system with Edge TPU!"
   ]
  },
  {
   "cell_type": "code",
   "execution_count": 1,
   "metadata": {},
   "outputs": [],
   "source": [
    "import numpy as np\n",
    "import cv2\n",
    "from time import time\n",
    "from edgetpu.detection.engine import DetectionEngine\n",
    "from PIL import Image\n",
    "from PIL import ImageDraw\n",
    "from PIL import ImageFont"
   ]
  },
  {
   "cell_type": "markdown",
   "metadata": {},
   "source": [
    "Let's load our model and setup the capture device (usb camera):"
   ]
  },
  {
   "cell_type": "code",
   "execution_count": 2,
   "metadata": {},
   "outputs": [],
   "source": [
    "engine = DetectionEngine('data/mobilenet_ssd_v2_face_quant_postprocess_edgetpu.tflite')\n",
    "font = ImageFont.truetype(\"/usr/share/fonts/truetype/freefont/FreeMonoBold.ttf\", 20, encoding=\"unic\")\n",
    "cap = cv2.VideoCapture(0)"
   ]
  },
  {
   "cell_type": "markdown",
   "metadata": {},
   "source": [
    "Let's perform face detection! For each captured frame: a) we convert it to the appropriate format (BGR to RGB), b) perform the face detection as before, c) annotate the frame and d) show the frame back!"
   ]
  },
  {
   "cell_type": "code",
   "execution_count": 3,
   "metadata": {},
   "outputs": [],
   "source": [
    " while (True):\n",
    "\n",
    "        # Run inference.\n",
    "        start_time = time()\n",
    "\n",
    "        # Get the frame\n",
    "        _, frame = cap.read()\n",
    "\n",
    "        # Convert to PIL image\n",
    "        rgb_frame = cv2.cvtColor(frame, cv2.COLOR_BGR2RGB)\n",
    "        pil_im = Image.fromarray(rgb_frame)\n",
    "        draw = ImageDraw.Draw(pil_im)\n",
    "\n",
    "        # Run the detection\n",
    "        start_time_inference = time()\n",
    "        ans = engine.DetectWithImage(pil_im, threshold=0.1, keep_aspect_ratio=True, relative_coord=False)\n",
    "        \n",
    "        end_time_inference = time()\n",
    "        # Get the results\n",
    "        if ans:\n",
    "            for obj in ans:\n",
    "                box = obj.bounding_box.flatten().tolist()\n",
    "                draw.rectangle(box, outline='red', width=4)\n",
    "        end_time = time()\n",
    "        \n",
    "        # Calculate some statistics\n",
    "        fps = 1. / (end_time - start_time)\n",
    "        fps_inf = 1. / (end_time_inference - start_time_inference)\n",
    "        draw.text((0, 0), 'FPS:  %3.2f , Inference FPS:  %3.2f' % (fps, fps_inf), font=font)\n",
    "\n",
    "        bgr_frame = cv2.cvtColor(np.array(pil_im), cv2.COLOR_RGB2BGR)\n",
    "\n",
    "        # Display the frame\n",
    "        cv2.imshow('frame', bgr_frame)\n",
    "        \n",
    "        # Quit on q\n",
    "        if cv2.waitKey(1) & 0xFF == ord('q'):\n",
    "            break"
   ]
  },
  {
   "cell_type": "code",
   "execution_count": 4,
   "metadata": {},
   "outputs": [],
   "source": [
    "cap.release()\n",
    "cv2.destroyAllWindows()"
   ]
  }
 ],
 "metadata": {
  "kernelspec": {
   "display_name": "Python 3",
   "language": "python",
   "name": "python3"
  },
  "language_info": {
   "codemirror_mode": {
    "name": "ipython",
    "version": 3
   },
   "file_extension": ".py",
   "mimetype": "text/x-python",
   "name": "python",
   "nbconvert_exporter": "python",
   "pygments_lexer": "ipython3",
   "version": "3.6.7"
  }
 },
 "nbformat": 4,
 "nbformat_minor": 2
}
